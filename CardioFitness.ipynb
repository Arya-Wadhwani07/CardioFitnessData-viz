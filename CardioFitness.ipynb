{
  "nbformat": 4,
  "nbformat_minor": 0,
  "metadata": {
    "colab": {
      "name": "CardioFitness.ipynb",
      "provenance": [],
      "collapsed_sections": []
    },
    "kernelspec": {
      "name": "python3",
      "display_name": "Python 3"
    },
    "language_info": {
      "name": "python"
    }
  },
  "cells": [
    {
      "cell_type": "markdown",
      "metadata": {
        "id": "C3f0a2Jhjfnl"
      },
      "source": [
        "#Cardio Fitness"
      ]
    },
    {
      "cell_type": "markdown",
      "metadata": {
        "id": "OFW6OPgqlgJV"
      },
      "source": [
        "Importing the Libraries"
      ]
    },
    {
      "cell_type": "code",
      "metadata": {
        "id": "-s0MljbKjg1l"
      },
      "source": [
        "#importing the necessary libraries\n",
        "import numpy as np\n",
        "import pandas as pd\n",
        "import matplotlib.pyplot as plt\n",
        "import seaborn as sns"
      ],
      "execution_count": null,
      "outputs": []
    },
    {
      "cell_type": "markdown",
      "metadata": {
        "id": "e6zoCDSFl7Z2"
      },
      "source": [
        "Loading Dataset"
      ]
    },
    {
      "cell_type": "code",
      "metadata": {
        "colab": {
          "base_uri": "https://localhost:8080/",
          "height": 203
        },
        "id": "6isQ-nOpl6VZ",
        "outputId": "d54aa090-9482-4e82-ce3c-86891e059315"
      },
      "source": [
        "df=pd.read_csv(\"CardioGoodFitness-1.csv\") #Loading the data set\n",
        "df.head() #Outputting the top entries of the dataset"
      ],
      "execution_count": null,
      "outputs": [
        {
          "output_type": "execute_result",
          "data": {
            "text/html": [
              "<div>\n",
              "<style scoped>\n",
              "    .dataframe tbody tr th:only-of-type {\n",
              "        vertical-align: middle;\n",
              "    }\n",
              "\n",
              "    .dataframe tbody tr th {\n",
              "        vertical-align: top;\n",
              "    }\n",
              "\n",
              "    .dataframe thead th {\n",
              "        text-align: right;\n",
              "    }\n",
              "</style>\n",
              "<table border=\"1\" class=\"dataframe\">\n",
              "  <thead>\n",
              "    <tr style=\"text-align: right;\">\n",
              "      <th></th>\n",
              "      <th>Product</th>\n",
              "      <th>Age</th>\n",
              "      <th>Gender</th>\n",
              "      <th>Education</th>\n",
              "      <th>MaritalStatus</th>\n",
              "      <th>Usage</th>\n",
              "      <th>Fitness</th>\n",
              "      <th>Income</th>\n",
              "      <th>Miles</th>\n",
              "    </tr>\n",
              "  </thead>\n",
              "  <tbody>\n",
              "    <tr>\n",
              "      <th>0</th>\n",
              "      <td>TM195</td>\n",
              "      <td>18</td>\n",
              "      <td>Male</td>\n",
              "      <td>14</td>\n",
              "      <td>Single</td>\n",
              "      <td>3</td>\n",
              "      <td>4</td>\n",
              "      <td>29562</td>\n",
              "      <td>112</td>\n",
              "    </tr>\n",
              "    <tr>\n",
              "      <th>1</th>\n",
              "      <td>TM195</td>\n",
              "      <td>19</td>\n",
              "      <td>Male</td>\n",
              "      <td>15</td>\n",
              "      <td>Single</td>\n",
              "      <td>2</td>\n",
              "      <td>3</td>\n",
              "      <td>31836</td>\n",
              "      <td>75</td>\n",
              "    </tr>\n",
              "    <tr>\n",
              "      <th>2</th>\n",
              "      <td>TM195</td>\n",
              "      <td>19</td>\n",
              "      <td>Female</td>\n",
              "      <td>14</td>\n",
              "      <td>Partnered</td>\n",
              "      <td>4</td>\n",
              "      <td>3</td>\n",
              "      <td>30699</td>\n",
              "      <td>66</td>\n",
              "    </tr>\n",
              "    <tr>\n",
              "      <th>3</th>\n",
              "      <td>TM195</td>\n",
              "      <td>19</td>\n",
              "      <td>Male</td>\n",
              "      <td>12</td>\n",
              "      <td>Single</td>\n",
              "      <td>3</td>\n",
              "      <td>3</td>\n",
              "      <td>32973</td>\n",
              "      <td>85</td>\n",
              "    </tr>\n",
              "    <tr>\n",
              "      <th>4</th>\n",
              "      <td>TM195</td>\n",
              "      <td>20</td>\n",
              "      <td>Male</td>\n",
              "      <td>13</td>\n",
              "      <td>Partnered</td>\n",
              "      <td>4</td>\n",
              "      <td>2</td>\n",
              "      <td>35247</td>\n",
              "      <td>47</td>\n",
              "    </tr>\n",
              "  </tbody>\n",
              "</table>\n",
              "</div>"
            ],
            "text/plain": [
              "  Product  Age  Gender  Education MaritalStatus  Usage  Fitness  Income  Miles\n",
              "0   TM195   18    Male         14        Single      3        4   29562    112\n",
              "1   TM195   19    Male         15        Single      2        3   31836     75\n",
              "2   TM195   19  Female         14     Partnered      4        3   30699     66\n",
              "3   TM195   19    Male         12        Single      3        3   32973     85\n",
              "4   TM195   20    Male         13     Partnered      4        2   35247     47"
            ]
          },
          "metadata": {
            "tags": []
          },
          "execution_count": 2
        }
      ]
    },
    {
      "cell_type": "code",
      "metadata": {
        "colab": {
          "base_uri": "https://localhost:8080/",
          "height": 203
        },
        "id": "yrNINZjlmIiD",
        "outputId": "5a594b0c-9a12-4a4f-8c1e-c4e733c5b214"
      },
      "source": [
        "df.tail() #Showing the last entries of the dataset"
      ],
      "execution_count": null,
      "outputs": [
        {
          "output_type": "execute_result",
          "data": {
            "text/html": [
              "<div>\n",
              "<style scoped>\n",
              "    .dataframe tbody tr th:only-of-type {\n",
              "        vertical-align: middle;\n",
              "    }\n",
              "\n",
              "    .dataframe tbody tr th {\n",
              "        vertical-align: top;\n",
              "    }\n",
              "\n",
              "    .dataframe thead th {\n",
              "        text-align: right;\n",
              "    }\n",
              "</style>\n",
              "<table border=\"1\" class=\"dataframe\">\n",
              "  <thead>\n",
              "    <tr style=\"text-align: right;\">\n",
              "      <th></th>\n",
              "      <th>Product</th>\n",
              "      <th>Age</th>\n",
              "      <th>Gender</th>\n",
              "      <th>Education</th>\n",
              "      <th>MaritalStatus</th>\n",
              "      <th>Usage</th>\n",
              "      <th>Fitness</th>\n",
              "      <th>Income</th>\n",
              "      <th>Miles</th>\n",
              "    </tr>\n",
              "  </thead>\n",
              "  <tbody>\n",
              "    <tr>\n",
              "      <th>175</th>\n",
              "      <td>TM798</td>\n",
              "      <td>40</td>\n",
              "      <td>Male</td>\n",
              "      <td>21</td>\n",
              "      <td>Single</td>\n",
              "      <td>6</td>\n",
              "      <td>5</td>\n",
              "      <td>83416</td>\n",
              "      <td>200</td>\n",
              "    </tr>\n",
              "    <tr>\n",
              "      <th>176</th>\n",
              "      <td>TM798</td>\n",
              "      <td>42</td>\n",
              "      <td>Male</td>\n",
              "      <td>18</td>\n",
              "      <td>Single</td>\n",
              "      <td>5</td>\n",
              "      <td>4</td>\n",
              "      <td>89641</td>\n",
              "      <td>200</td>\n",
              "    </tr>\n",
              "    <tr>\n",
              "      <th>177</th>\n",
              "      <td>TM798</td>\n",
              "      <td>45</td>\n",
              "      <td>Male</td>\n",
              "      <td>16</td>\n",
              "      <td>Single</td>\n",
              "      <td>5</td>\n",
              "      <td>5</td>\n",
              "      <td>90886</td>\n",
              "      <td>160</td>\n",
              "    </tr>\n",
              "    <tr>\n",
              "      <th>178</th>\n",
              "      <td>TM798</td>\n",
              "      <td>47</td>\n",
              "      <td>Male</td>\n",
              "      <td>18</td>\n",
              "      <td>Partnered</td>\n",
              "      <td>4</td>\n",
              "      <td>5</td>\n",
              "      <td>104581</td>\n",
              "      <td>120</td>\n",
              "    </tr>\n",
              "    <tr>\n",
              "      <th>179</th>\n",
              "      <td>TM798</td>\n",
              "      <td>48</td>\n",
              "      <td>Male</td>\n",
              "      <td>18</td>\n",
              "      <td>Partnered</td>\n",
              "      <td>4</td>\n",
              "      <td>5</td>\n",
              "      <td>95508</td>\n",
              "      <td>180</td>\n",
              "    </tr>\n",
              "  </tbody>\n",
              "</table>\n",
              "</div>"
            ],
            "text/plain": [
              "    Product  Age Gender  Education MaritalStatus  Usage  Fitness  Income  Miles\n",
              "175   TM798   40   Male         21        Single      6        5   83416    200\n",
              "176   TM798   42   Male         18        Single      5        4   89641    200\n",
              "177   TM798   45   Male         16        Single      5        5   90886    160\n",
              "178   TM798   47   Male         18     Partnered      4        5  104581    120\n",
              "179   TM798   48   Male         18     Partnered      4        5   95508    180"
            ]
          },
          "metadata": {
            "tags": []
          },
          "execution_count": 3
        }
      ]
    },
    {
      "cell_type": "code",
      "metadata": {
        "colab": {
          "base_uri": "https://localhost:8080/"
        },
        "id": "HyBxTV6JmYOE",
        "outputId": "6e176f96-4f27-4e28-9e28-a0eb1fc98bc5"
      },
      "source": [
        "# Having a rough idea about the data\n",
        "df.info()\n",
        "# Here we will see the number of features and type of data stored in them"
      ],
      "execution_count": null,
      "outputs": [
        {
          "output_type": "stream",
          "text": [
            "<class 'pandas.core.frame.DataFrame'>\n",
            "RangeIndex: 180 entries, 0 to 179\n",
            "Data columns (total 9 columns):\n",
            " #   Column         Non-Null Count  Dtype \n",
            "---  ------         --------------  ----- \n",
            " 0   Product        180 non-null    object\n",
            " 1   Age            180 non-null    int64 \n",
            " 2   Gender         180 non-null    object\n",
            " 3   Education      180 non-null    int64 \n",
            " 4   MaritalStatus  180 non-null    object\n",
            " 5   Usage          180 non-null    int64 \n",
            " 6   Fitness        180 non-null    int64 \n",
            " 7   Income         180 non-null    int64 \n",
            " 8   Miles          180 non-null    int64 \n",
            "dtypes: int64(6), object(3)\n",
            "memory usage: 12.8+ KB\n"
          ],
          "name": "stdout"
        }
      ]
    },
    {
      "cell_type": "markdown",
      "metadata": {
        "id": "wsY-DLGsoQ_Y"
      },
      "source": [
        "Describing Product Feature"
      ]
    },
    {
      "cell_type": "code",
      "metadata": {
        "colab": {
          "base_uri": "https://localhost:8080/"
        },
        "id": "un_alJ7qmf9k",
        "outputId": "9fc3cddc-8d4a-45ed-d685-e61444f404a9"
      },
      "source": [
        "# Descirbing 'Product' Column\n",
        "print(\"Number of entries in Products are:\",df['Product'].count()) \n",
        "print(\"Different Products and number of times they are purchased: \")\n",
        "df['Product'].value_counts()"
      ],
      "execution_count": null,
      "outputs": [
        {
          "output_type": "stream",
          "text": [
            "Number of entries in Products are: 180\n",
            "Different Products and number of times they are purchased: \n"
          ],
          "name": "stdout"
        },
        {
          "output_type": "execute_result",
          "data": {
            "text/plain": [
              "TM195    80\n",
              "TM498    60\n",
              "TM798    40\n",
              "Name: Product, dtype: int64"
            ]
          },
          "metadata": {
            "tags": []
          },
          "execution_count": 17
        }
      ]
    },
    {
      "cell_type": "code",
      "metadata": {
        "colab": {
          "base_uri": "https://localhost:8080/"
        },
        "id": "pDWD_ZXvm6xc",
        "outputId": "9fc2d156-5ab0-4e86-8071-e3c0e347bdf7"
      },
      "source": [
        "#Rough Statistical Description\n",
        "df['Product'].describe()"
      ],
      "execution_count": null,
      "outputs": [
        {
          "output_type": "execute_result",
          "data": {
            "text/plain": [
              "count       180\n",
              "unique        3\n",
              "top       TM195\n",
              "freq         80\n",
              "Name: Product, dtype: object"
            ]
          },
          "metadata": {
            "tags": []
          },
          "execution_count": 18
        }
      ]
    },
    {
      "cell_type": "markdown",
      "metadata": {
        "id": "ij2NUqZqoTgP"
      },
      "source": [
        "Describing Age Feature"
      ]
    },
    {
      "cell_type": "code",
      "metadata": {
        "colab": {
          "base_uri": "https://localhost:8080/"
        },
        "id": "0lBzbJUlnoun",
        "outputId": "165e5ca3-1232-4efd-aaf2-05be35d44b37"
      },
      "source": [
        "# Rough Statistical Description\n",
        "df['Age'].describe()"
      ],
      "execution_count": null,
      "outputs": [
        {
          "output_type": "execute_result",
          "data": {
            "text/plain": [
              "count    180.000000\n",
              "mean      28.788889\n",
              "std        6.943498\n",
              "min       18.000000\n",
              "25%       24.000000\n",
              "50%       26.000000\n",
              "75%       33.000000\n",
              "max       50.000000\n",
              "Name: Age, dtype: float64"
            ]
          },
          "metadata": {
            "tags": []
          },
          "execution_count": 23
        }
      ]
    },
    {
      "cell_type": "code",
      "metadata": {
        "id": "oOmEA9dJoZBb"
      },
      "source": [
        "# From the above description we can see the mean and standard deviation\n",
        "# The minimum age is 18 while the mean being around 29\n",
        "# We also have the display of Quartiles represented by 25%,75 %\n",
        "# Median being represented by 50%"
      ],
      "execution_count": null,
      "outputs": []
    },
    {
      "cell_type": "code",
      "metadata": {
        "colab": {
          "base_uri": "https://localhost:8080/"
        },
        "id": "F3pDA2YeoxK6",
        "outputId": "d0896e31-a0ec-4f22-96eb-f010c03a87b3"
      },
      "source": [
        "print(\"Mean Age:\",df['Age'].mean())\n",
        "print(\"Standard Deviation of Age: \",df['Age'].std())\n",
        "print(\"Minumum age is {} and maximum age is {}\".format(df['Age'].min(),df['Age'].max()))"
      ],
      "execution_count": null,
      "outputs": [
        {
          "output_type": "stream",
          "text": [
            "Mean Age: 28.788888888888888\n",
            "Standard Deviation of Age:  6.943498135399795\n",
            "Minumum age is 18 and maximum age is 50\n"
          ],
          "name": "stdout"
        }
      ]
    },
    {
      "cell_type": "markdown",
      "metadata": {
        "id": "7F0CM_KapVax"
      },
      "source": [
        "Describing Gender Feature"
      ]
    },
    {
      "cell_type": "code",
      "metadata": {
        "colab": {
          "base_uri": "https://localhost:8080/"
        },
        "id": "CjW_g-IFo4KF",
        "outputId": "9f3333be-cee0-4547-d2e1-8a8391476303"
      },
      "source": [
        "# Checking the count of male and female purchasing the product\n",
        "df['Gender'].value_counts()"
      ],
      "execution_count": null,
      "outputs": [
        {
          "output_type": "execute_result",
          "data": {
            "text/plain": [
              "Male      104\n",
              "Female     76\n",
              "Name: Gender, dtype: int64"
            ]
          },
          "metadata": {
            "tags": []
          },
          "execution_count": 33
        }
      ]
    },
    {
      "cell_type": "code",
      "metadata": {
        "colab": {
          "base_uri": "https://localhost:8080/"
        },
        "id": "8dL4VSbFpZlG",
        "outputId": "78baa5fa-9f71-43ac-fce6-73416ceb4546"
      },
      "source": [
        "print(\"Number of Males purchasing is {}\".format(df['Gender'].value_counts()['Male']))\n",
        "print(\"Number of Females purchasing is {}\".format(df['Gender'].value_counts()['Female']))"
      ],
      "execution_count": null,
      "outputs": [
        {
          "output_type": "stream",
          "text": [
            "Number of Males purchasing is 104\n",
            "Number of Females purchasing is 76\n"
          ],
          "name": "stdout"
        }
      ]
    },
    {
      "cell_type": "code",
      "metadata": {
        "colab": {
          "base_uri": "https://localhost:8080/"
        },
        "id": "tjPF9eIIpjgi",
        "outputId": "73ce7884-faa8-4b61-a974-e43316b40670"
      },
      "source": [
        "# Rough Statistical Description\n",
        "df['Gender'].describe()"
      ],
      "execution_count": null,
      "outputs": [
        {
          "output_type": "execute_result",
          "data": {
            "text/plain": [
              "count      180\n",
              "unique       2\n",
              "top       Male\n",
              "freq       104\n",
              "Name: Gender, dtype: object"
            ]
          },
          "metadata": {
            "tags": []
          },
          "execution_count": 37
        }
      ]
    },
    {
      "cell_type": "markdown",
      "metadata": {
        "id": "IZuTh8-bp3kT"
      },
      "source": [
        "Describing the Education feature"
      ]
    },
    {
      "cell_type": "code",
      "metadata": {
        "colab": {
          "base_uri": "https://localhost:8080/"
        },
        "id": "1ESzarDUpxzj",
        "outputId": "8b6cb654-db95-46a1-ea97-aa84349036f5"
      },
      "source": [
        "df['Education'].value_counts()"
      ],
      "execution_count": null,
      "outputs": [
        {
          "output_type": "execute_result",
          "data": {
            "text/plain": [
              "16    85\n",
              "14    55\n",
              "18    23\n",
              "15     5\n",
              "13     5\n",
              "21     3\n",
              "12     3\n",
              "20     1\n",
              "Name: Education, dtype: int64"
            ]
          },
          "metadata": {
            "tags": []
          },
          "execution_count": 39
        }
      ]
    },
    {
      "cell_type": "code",
      "metadata": {
        "id": "3pdjkBsqp_Jn"
      },
      "source": [
        "# Above we can see that most have eductaion as 16 years followed by 14"
      ],
      "execution_count": null,
      "outputs": []
    },
    {
      "cell_type": "code",
      "metadata": {
        "colab": {
          "base_uri": "https://localhost:8080/"
        },
        "id": "mJSI430dqJbG",
        "outputId": "53cf3f67-eca2-4f4b-d960-938e36ebb880"
      },
      "source": [
        "# Rough Statistical description\n",
        "df['Education'].describe()\n",
        "# Here we can also have the Quartiles mentioned"
      ],
      "execution_count": null,
      "outputs": [
        {
          "output_type": "execute_result",
          "data": {
            "text/plain": [
              "count    180.000000\n",
              "mean      15.572222\n",
              "std        1.617055\n",
              "min       12.000000\n",
              "25%       14.000000\n",
              "50%       16.000000\n",
              "75%       16.000000\n",
              "max       21.000000\n",
              "Name: Education, dtype: float64"
            ]
          },
          "metadata": {
            "tags": []
          },
          "execution_count": 45
        }
      ]
    },
    {
      "cell_type": "code",
      "metadata": {
        "colab": {
          "base_uri": "https://localhost:8080/"
        },
        "id": "kAu751B5qOPU",
        "outputId": "bce1ef98-f708-4991-f935-e969cba4f2e1"
      },
      "source": [
        "print(\"Mean Education is {}\".format(df['Education'].mean()))\n",
        "print(\"Standard Deviation of Education is {}\".format(df['Education'].std()))\n",
        "print(\"Maximum Education \",df['Education'].max())\n",
        "print(\"Minumum Education \",df['Education'].min())"
      ],
      "execution_count": null,
      "outputs": [
        {
          "output_type": "stream",
          "text": [
            "Mean Education is 15.572222222222223\n",
            "Standard Deviation of Education is 1.6170548978065553\n",
            "Maximum Education  21\n",
            "Minumum Education  12\n"
          ],
          "name": "stdout"
        }
      ]
    },
    {
      "cell_type": "markdown",
      "metadata": {
        "id": "cStBJbFzqss_"
      },
      "source": [
        "Describing Marital Status"
      ]
    },
    {
      "cell_type": "code",
      "metadata": {
        "colab": {
          "base_uri": "https://localhost:8080/"
        },
        "id": "zN01rWfZqaYI",
        "outputId": "964ff9e3-e2d4-4799-8f0b-e571fe83119a"
      },
      "source": [
        "df['MaritalStatus'].value_counts()"
      ],
      "execution_count": null,
      "outputs": [
        {
          "output_type": "execute_result",
          "data": {
            "text/plain": [
              "Partnered    107\n",
              "Single        73\n",
              "Name: MaritalStatus, dtype: int64"
            ]
          },
          "metadata": {
            "tags": []
          },
          "execution_count": 47
        }
      ]
    },
    {
      "cell_type": "code",
      "metadata": {
        "id": "iY2BnJ0xqzzH"
      },
      "source": [
        "# From the above description we can see that\n",
        "# Partnered Couples are buying this product more than singles"
      ],
      "execution_count": null,
      "outputs": []
    },
    {
      "cell_type": "code",
      "metadata": {
        "colab": {
          "base_uri": "https://localhost:8080/"
        },
        "id": "anP00XPPq7a_",
        "outputId": "fc2cfb40-56f6-45fc-9796-4aaa3e413176"
      },
      "source": [
        "# Rough Statistical Description\n",
        "df['MaritalStatus'].describe()"
      ],
      "execution_count": null,
      "outputs": [
        {
          "output_type": "execute_result",
          "data": {
            "text/plain": [
              "count           180\n",
              "unique            2\n",
              "top       Partnered\n",
              "freq            107\n",
              "Name: MaritalStatus, dtype: object"
            ]
          },
          "metadata": {
            "tags": []
          },
          "execution_count": 51
        }
      ]
    },
    {
      "cell_type": "markdown",
      "metadata": {
        "id": "C91SseTbrLmY"
      },
      "source": [
        "Describing Usage Feature"
      ]
    },
    {
      "cell_type": "code",
      "metadata": {
        "colab": {
          "base_uri": "https://localhost:8080/"
        },
        "id": "-JvMzdIGq-6h",
        "outputId": "2695c4e6-66be-469b-c816-e2aed97b065a"
      },
      "source": [
        "# Rough Statistical Description\n",
        "df['Usage'].describe()"
      ],
      "execution_count": null,
      "outputs": [
        {
          "output_type": "execute_result",
          "data": {
            "text/plain": [
              "count    180.000000\n",
              "mean       3.455556\n",
              "std        1.084797\n",
              "min        2.000000\n",
              "25%        3.000000\n",
              "50%        3.000000\n",
              "75%        4.000000\n",
              "max        7.000000\n",
              "Name: Usage, dtype: float64"
            ]
          },
          "metadata": {
            "tags": []
          },
          "execution_count": 53
        }
      ]
    },
    {
      "cell_type": "code",
      "metadata": {
        "colab": {
          "base_uri": "https://localhost:8080/"
        },
        "id": "xOHdEQRNrPZ2",
        "outputId": "a27f2a2a-3570-48c9-a23d-c3d49bafc391"
      },
      "source": [
        "print(\"Mean Usage is {}\".format(df['Usage'].mean()))\n",
        "print(\"Standard Deviation of Usage is {}\".format(df['Usage'].std()))\n",
        "print(\"Maximum Usage\",df['Usage'].max())\n",
        "print(\"Minumum Usage\",df['Usage'].min())"
      ],
      "execution_count": null,
      "outputs": [
        {
          "output_type": "stream",
          "text": [
            "Mean Usage is 3.4555555555555557\n",
            "Standard Deviation of Usage is 1.0847970343962445\n",
            "Maximum Usage 7\n",
            "Minumum Usage 2\n"
          ],
          "name": "stdout"
        }
      ]
    },
    {
      "cell_type": "code",
      "metadata": {
        "colab": {
          "base_uri": "https://localhost:8080/"
        },
        "id": "gufR6jvWrnYW",
        "outputId": "4769325a-7db9-417e-d07b-12fb0fa9470e"
      },
      "source": [
        "df['Usage'].value_counts()"
      ],
      "execution_count": null,
      "outputs": [
        {
          "output_type": "execute_result",
          "data": {
            "text/plain": [
              "3    69\n",
              "4    52\n",
              "2    33\n",
              "5    17\n",
              "6     7\n",
              "7     2\n",
              "Name: Usage, dtype: int64"
            ]
          },
          "metadata": {
            "tags": []
          },
          "execution_count": 56
        }
      ]
    },
    {
      "cell_type": "code",
      "metadata": {
        "id": "j7kDylLhrs5Q"
      },
      "source": [
        "# We can see that most usage is around 3 miles"
      ],
      "execution_count": null,
      "outputs": []
    },
    {
      "cell_type": "markdown",
      "metadata": {
        "id": "txXmMYegryzr"
      },
      "source": [
        "Describing Fitness Feature"
      ]
    },
    {
      "cell_type": "code",
      "metadata": {
        "colab": {
          "base_uri": "https://localhost:8080/"
        },
        "id": "agATdQtjryPN",
        "outputId": "76d9eaf5-dde7-466a-8aa3-c64cca01f9c6"
      },
      "source": [
        "df['Fitness'].value_counts()"
      ],
      "execution_count": null,
      "outputs": [
        {
          "output_type": "execute_result",
          "data": {
            "text/plain": [
              "3    97\n",
              "5    31\n",
              "2    26\n",
              "4    24\n",
              "1     2\n",
              "Name: Fitness, dtype: int64"
            ]
          },
          "metadata": {
            "tags": []
          },
          "execution_count": 59
        }
      ]
    },
    {
      "cell_type": "code",
      "metadata": {
        "id": "larlEe5Tr6ZR"
      },
      "source": [
        "# From the above we can see this product being purchased by people\n",
        "# whose have average fitness level 3 the most"
      ],
      "execution_count": null,
      "outputs": []
    },
    {
      "cell_type": "code",
      "metadata": {
        "colab": {
          "base_uri": "https://localhost:8080/"
        },
        "id": "JyPEj6HcsGRf",
        "outputId": "ae631caa-5426-4fb3-fe16-4ea125ad33c1"
      },
      "source": [
        "# Rough Statistical Description\n",
        "df['Fitness'].describe()"
      ],
      "execution_count": null,
      "outputs": [
        {
          "output_type": "execute_result",
          "data": {
            "text/plain": [
              "count    180.000000\n",
              "mean       3.311111\n",
              "std        0.958869\n",
              "min        1.000000\n",
              "25%        3.000000\n",
              "50%        3.000000\n",
              "75%        4.000000\n",
              "max        5.000000\n",
              "Name: Fitness, dtype: float64"
            ]
          },
          "metadata": {
            "tags": []
          },
          "execution_count": 61
        }
      ]
    },
    {
      "cell_type": "code",
      "metadata": {
        "colab": {
          "base_uri": "https://localhost:8080/"
        },
        "id": "AzS43sR3sLsO",
        "outputId": "c4c6dd2f-2e96-4331-f761-2169cb1bc344"
      },
      "source": [
        "print(\"Mean Fitness level is {}\".format(df['Fitness'].mean()))\n",
        "print(\"Standard Deviation of Fitness Level is {}\".format(df['Fitness'].std()))\n",
        "print(\"Maximum Fitness Level\",df['Fitness'].max())\n",
        "print(\"Minumum Fitness Level\",df['Fitness'].min())"
      ],
      "execution_count": null,
      "outputs": [
        {
          "output_type": "stream",
          "text": [
            "Mean Fitness level is 3.311111111111111\n",
            "Standard Deviation of Fitness Level is 0.958868565619312\n",
            "Maximum Fitness Level 5\n",
            "Minumum Fitness Level 1\n"
          ],
          "name": "stdout"
        }
      ]
    },
    {
      "cell_type": "markdown",
      "metadata": {
        "id": "t4PeV5jvsnMa"
      },
      "source": [
        "Describing Income Feature"
      ]
    },
    {
      "cell_type": "code",
      "metadata": {
        "colab": {
          "base_uri": "https://localhost:8080/"
        },
        "id": "_yt1SzNUsdsp",
        "outputId": "43140c37-e9c9-49ef-ed4a-f2384da86ca1"
      },
      "source": [
        "# Rough Statistical Description\n",
        "df['Income'].describe()"
      ],
      "execution_count": null,
      "outputs": [
        {
          "output_type": "execute_result",
          "data": {
            "text/plain": [
              "count       180.000000\n",
              "mean      53719.577778\n",
              "std       16506.684226\n",
              "min       29562.000000\n",
              "25%       44058.750000\n",
              "50%       50596.500000\n",
              "75%       58668.000000\n",
              "max      104581.000000\n",
              "Name: Income, dtype: float64"
            ]
          },
          "metadata": {
            "tags": []
          },
          "execution_count": 66
        }
      ]
    },
    {
      "cell_type": "code",
      "metadata": {
        "id": "IwZtYXkGs0fn"
      },
      "source": [
        "# We can see that the mean income is around 53k\n",
        "# Product being expensive is obviously being bought by people with high salaries\n",
        "# Minumum income of customer is around 30k"
      ],
      "execution_count": null,
      "outputs": []
    },
    {
      "cell_type": "code",
      "metadata": {
        "colab": {
          "base_uri": "https://localhost:8080/"
        },
        "id": "d4BH26bUswOL",
        "outputId": "a83b733e-3e39-4284-abaf-95b6b95ffc48"
      },
      "source": [
        "print(\"Mean Income {}\".format(df['Income'].mean()))\n",
        "print(\"Standard Deviation of Income is {}\".format(df['Income'].std()))\n",
        "print(\"Maximum Income \",df['Income'].max())\n",
        "print(\"Minumum income \",df['Income'].min())"
      ],
      "execution_count": null,
      "outputs": [
        {
          "output_type": "stream",
          "text": [
            "Mean Income 53719.57777777778\n",
            "Standard Deviation of Income is 16506.68422623862\n",
            "Maximum Income  104581\n",
            "Minumum income  29562\n"
          ],
          "name": "stdout"
        }
      ]
    },
    {
      "cell_type": "markdown",
      "metadata": {
        "id": "6YQKiw5otP_p"
      },
      "source": [
        "Describing the Miles Feature"
      ]
    },
    {
      "cell_type": "code",
      "metadata": {
        "colab": {
          "base_uri": "https://localhost:8080/"
        },
        "id": "Iw6Q5BKMtLBo",
        "outputId": "63723eed-b937-4f85-b1f8-64f360f1a98f"
      },
      "source": [
        "# Rough Statistical Description\n",
        "df['Miles'].describe()"
      ],
      "execution_count": null,
      "outputs": [
        {
          "output_type": "execute_result",
          "data": {
            "text/plain": [
              "count    180.000000\n",
              "mean     103.194444\n",
              "std       51.863605\n",
              "min       21.000000\n",
              "25%       66.000000\n",
              "50%       94.000000\n",
              "75%      114.750000\n",
              "max      360.000000\n",
              "Name: Miles, dtype: float64"
            ]
          },
          "metadata": {
            "tags": []
          },
          "execution_count": 72
        }
      ]
    },
    {
      "cell_type": "code",
      "metadata": {
        "id": "Au175u3gtTLF"
      },
      "source": [
        "# Mean miles travelled is around 103 which is average by each customer per week"
      ],
      "execution_count": null,
      "outputs": []
    },
    {
      "cell_type": "code",
      "metadata": {
        "colab": {
          "base_uri": "https://localhost:8080/"
        },
        "id": "CrVASpbftcB4",
        "outputId": "89f8a224-cb4a-4412-f7b8-030144771d59"
      },
      "source": [
        "print(\"Mean Miles Travelled {}\".format(df['Miles'].mean()))\n",
        "print(\"Standard Deviation of Miles Travelled is {}\".format(df['Miles'].std()))\n",
        "print(\"Maximum Miles Travelled \",df['Miles'].max())\n",
        "print(\"Minumum Miles Travelled\",df['Miles'].min())"
      ],
      "execution_count": null,
      "outputs": [
        {
          "output_type": "stream",
          "text": [
            "Mean Miles Travelled 103.19444444444444\n",
            "Standard Deviation of Miles Travelled is 51.86360466180934\n",
            "Maximum Miles Travelled  360\n",
            "Minumum Miles Travelled 21\n"
          ],
          "name": "stdout"
        }
      ]
    },
    {
      "cell_type": "markdown",
      "metadata": {
        "id": "ktncvAp1twfI"
      },
      "source": [
        "Product maximum used"
      ]
    },
    {
      "cell_type": "code",
      "metadata": {
        "colab": {
          "base_uri": "https://localhost:8080/",
          "height": 296
        },
        "id": "iiOJ2aJ-tik0",
        "outputId": "b137d203-6f1c-4122-dc65-ecff995443f9"
      },
      "source": [
        "sns.barplot(x='Product',y='Usage',hue='Gender',data=df)"
      ],
      "execution_count": null,
      "outputs": [
        {
          "output_type": "execute_result",
          "data": {
            "text/plain": [
              "<matplotlib.axes._subplots.AxesSubplot at 0x7f87534b7650>"
            ]
          },
          "metadata": {
            "tags": []
          },
          "execution_count": 176
        },
        {
          "output_type": "display_data",
          "data": {
            "image/png": "[encoded data removed]",
            "text/plain": [
              "<Figure size 432x288 with 1 Axes>"
            ]
          },
          "metadata": {
            "tags": [],
            "needs_background": "light"
          }
        }
      ]
    },
    {
      "cell_type": "code",
      "metadata": {
        "id": "p6lNwGZkA_rK"
      },
      "source": [
        "# From the above graph we can cleary see the maximum usage\n",
        "# of the product by a male is TM798"
      ],
      "execution_count": null,
      "outputs": []
    },
    {
      "cell_type": "code",
      "metadata": {
        "colab": {
          "base_uri": "https://localhost:8080/",
          "height": 35
        },
        "id": "PhBl_NB5t_Bn",
        "outputId": "4ec68df3-541d-44d0-c09b-a339ac997ada"
      },
      "source": [
        "# Verifying using pandas \n",
        "df[df['Gender']=='Male']['Product'].max()"
      ],
      "execution_count": null,
      "outputs": [
        {
          "output_type": "execute_result",
          "data": {
            "application/vnd.google.colaboratory.intrinsic+json": {
              "type": "string"
            },
            "text/plain": [
              "'TM798'"
            ]
          },
          "metadata": {
            "tags": []
          },
          "execution_count": 179
        }
      ]
    },
    {
      "cell_type": "code",
      "metadata": {
        "colab": {
          "base_uri": "https://localhost:8080/"
        },
        "id": "d2kXmCdsuofH",
        "outputId": "da1dbb48-6ed1-4ae3-b5ef-af221cde235e"
      },
      "source": [
        "# We can also see from the dataframe directly that males are using TM195 the most\n",
        "print(\"The maximum used product by male is TM795\")"
      ],
      "execution_count": null,
      "outputs": [
        {
          "output_type": "stream",
          "text": [
            "The maximum used product by male is TM795\n"
          ],
          "name": "stdout"
        }
      ]
    },
    {
      "cell_type": "code",
      "metadata": {
        "colab": {
          "base_uri": "https://localhost:8080/",
          "height": 296
        },
        "id": "eYW3vmJbBfC_",
        "outputId": "3645c154-484e-48ba-fb0f-67167660e312"
      },
      "source": [
        "sns.countplot(x='Product',hue='Gender',data=df)"
      ],
      "execution_count": null,
      "outputs": [
        {
          "output_type": "execute_result",
          "data": {
            "text/plain": [
              "<matplotlib.axes._subplots.AxesSubplot at 0x7f8748ec9890>"
            ]
          },
          "metadata": {
            "tags": []
          },
          "execution_count": 184
        },
        {
          "output_type": "display_data",
          "data": {
            "image/png": "[encoded data removed]",
            "text/plain": [
              "<Figure size 432x288 with 1 Axes>"
            ]
          },
          "metadata": {
            "tags": [],
            "needs_background": "light"
          }
        }
      ]
    },
    {
      "cell_type": "code",
      "metadata": {
        "colab": {
          "base_uri": "https://localhost:8080/"
        },
        "id": "LFszRwXPBgdY",
        "outputId": "35a690a8-8195-40fe-80a8-7591d29a86a6"
      },
      "source": [
        "# From the above graph we know the maximum product purchased\n",
        "# based on the gender\n",
        "print(\"Males bought TM195 the most but TM798 was used more\")\n",
        "print(\"Females bought the TM195 the most but TM798 was used more\")"
      ],
      "execution_count": null,
      "outputs": [
        {
          "output_type": "stream",
          "text": [
            "Males bought TM195 the most but TM798 was used more\n",
            "Females bought the TM195 the most but TM798 was used more\n"
          ],
          "name": "stdout"
        }
      ]
    },
    {
      "cell_type": "markdown",
      "metadata": {
        "id": "Ch8DVlXRvVdF"
      },
      "source": [
        "Number of Objects"
      ]
    },
    {
      "cell_type": "code",
      "metadata": {
        "colab": {
          "base_uri": "https://localhost:8080/"
        },
        "id": "9vjPQfR6vMRa",
        "outputId": "0a59c647-c910-4c9a-e3b1-1511416a9a77"
      },
      "source": [
        "print(\"Total number of Products purchased is \",df['Product'].value_counts().sum())"
      ],
      "execution_count": null,
      "outputs": [
        {
          "output_type": "stream",
          "text": [
            "Total number of Products purchased is  180\n"
          ],
          "name": "stdout"
        }
      ]
    },
    {
      "cell_type": "code",
      "metadata": {
        "colab": {
          "base_uri": "https://localhost:8080/"
        },
        "id": "60NYKtgqv24V",
        "outputId": "495694ef-8dff-4f42-fa50-5686ed3697a1"
      },
      "source": [
        "# Product Wise Info\n",
        "df['Product'].value_counts()"
      ],
      "execution_count": null,
      "outputs": [
        {
          "output_type": "execute_result",
          "data": {
            "text/plain": [
              "TM195    80\n",
              "TM498    60\n",
              "TM798    40\n",
              "Name: Product, dtype: int64"
            ]
          },
          "metadata": {
            "tags": []
          },
          "execution_count": 92
        }
      ]
    },
    {
      "cell_type": "code",
      "metadata": {
        "colab": {
          "base_uri": "https://localhost:8080/",
          "height": 314
        },
        "id": "CrD2BltRvaoP",
        "outputId": "02cc4cda-baa5-4024-9c92-bb52ea16fc23"
      },
      "source": [
        "print(\"Count plot\")\n",
        "sns.countplot(x='Product',data=df)"
      ],
      "execution_count": null,
      "outputs": [
        {
          "output_type": "stream",
          "text": [
            "Count plot\n"
          ],
          "name": "stdout"
        },
        {
          "output_type": "execute_result",
          "data": {
            "text/plain": [
              "<matplotlib.axes._subplots.AxesSubplot at 0x7f8757cd44d0>"
            ]
          },
          "metadata": {
            "tags": []
          },
          "execution_count": 93
        },
        {
          "output_type": "display_data",
          "data": {
            "image/png": "[encoded data removed]",
            "text/plain": [
              "<Figure size 432x288 with 1 Axes>"
            ]
          },
          "metadata": {
            "tags": [],
            "needs_background": "light"
          }
        }
      ]
    },
    {
      "cell_type": "markdown",
      "metadata": {
        "id": "5eWyPAPRv_fH"
      },
      "source": [
        "Explaining Features Age, Income, Miles and Usage"
      ]
    },
    {
      "cell_type": "code",
      "metadata": {
        "id": "UyAl7axPytgn"
      },
      "source": [
        "# AGE"
      ],
      "execution_count": null,
      "outputs": []
    },
    {
      "cell_type": "code",
      "metadata": {
        "colab": {
          "base_uri": "https://localhost:8080/"
        },
        "id": "hRuSfTAmxd8D",
        "outputId": "555a700c-b17b-4ac3-8dbe-4583af9e576c"
      },
      "source": [
        "df['Age'].describe()"
      ],
      "execution_count": null,
      "outputs": [
        {
          "output_type": "execute_result",
          "data": {
            "text/plain": [
              "count    180.000000\n",
              "mean      28.788889\n",
              "std        6.943498\n",
              "min       18.000000\n",
              "25%       24.000000\n",
              "50%       26.000000\n",
              "75%       33.000000\n",
              "max       50.000000\n",
              "Name: Age, dtype: float64"
            ]
          },
          "metadata": {
            "tags": []
          },
          "execution_count": 99
        }
      ]
    },
    {
      "cell_type": "code",
      "metadata": {
        "colab": {
          "base_uri": "https://localhost:8080/"
        },
        "id": "y98t6gJ0xfn9",
        "outputId": "727aa5e1-b09c-4ede-da62-3a1aa1b027a2"
      },
      "source": [
        "# For data to be normal, the kde distributio peak should have\n",
        "# around 68% values on 1 units apart from both sides of the mean\n",
        "print(\"Mean is {}\".format(df['Age'].mean()))"
      ],
      "execution_count": null,
      "outputs": [
        {
          "output_type": "stream",
          "text": [
            "Mean is 28.788888888888888\n"
          ],
          "name": "stdout"
        }
      ]
    },
    {
      "cell_type": "code",
      "metadata": {
        "colab": {
          "base_uri": "https://localhost:8080/",
          "height": 296
        },
        "id": "6-QjsM3yvy1j",
        "outputId": "b66708d9-c3df-413e-fb70-cc325a15843e"
      },
      "source": [
        "sns.kdeplot(x='Age',data=df,legend=True)\n",
        "print(\"Gaussian Distribution\")"
      ],
      "execution_count": null,
      "outputs": [
        {
          "output_type": "stream",
          "text": [
            "Gaussian Distribution\n"
          ],
          "name": "stdout"
        },
        {
          "output_type": "display_data",
          "data": {
            "image/png": "[encoded data removed]",
            "text/plain": [
              "<Figure size 432x288 with 1 Axes>"
            ]
          },
          "metadata": {
            "tags": [],
            "needs_background": "light"
          }
        }
      ]
    },
    {
      "cell_type": "code",
      "metadata": {
        "id": "BDfInaRvwOj_"
      },
      "source": [
        "# We can see from the plot that mean is around 28 \n",
        "# Most of the values lie between those\n"
      ],
      "execution_count": null,
      "outputs": []
    },
    {
      "cell_type": "code",
      "metadata": {
        "id": "07nyY8bTywCX"
      },
      "source": [
        "# INCOME"
      ],
      "execution_count": null,
      "outputs": []
    },
    {
      "cell_type": "code",
      "metadata": {
        "colab": {
          "base_uri": "https://localhost:8080/"
        },
        "id": "or8ggqk_xX9z",
        "outputId": "41c052ac-0208-4312-c63b-1400471b17aa"
      },
      "source": [
        "df['Income'].describe()"
      ],
      "execution_count": null,
      "outputs": [
        {
          "output_type": "execute_result",
          "data": {
            "text/plain": [
              "count       180.000000\n",
              "mean      53719.577778\n",
              "std       16506.684226\n",
              "min       29562.000000\n",
              "25%       44058.750000\n",
              "50%       50596.500000\n",
              "75%       58668.000000\n",
              "max      104581.000000\n",
              "Name: Income, dtype: float64"
            ]
          },
          "metadata": {
            "tags": []
          },
          "execution_count": 110
        }
      ]
    },
    {
      "cell_type": "code",
      "metadata": {
        "colab": {
          "base_uri": "https://localhost:8080/"
        },
        "id": "5ZnjqZCyyxoc",
        "outputId": "7a4dbb1e-e95e-4e7c-f93d-490e681d30b6"
      },
      "source": [
        "# For data to be normal, the kde distributio peak should have\n",
        "# around 68% values on 1 units apart from both sides of the mean\n",
        "print(\"Mean is {}\".format(df['Income'].mean()))"
      ],
      "execution_count": null,
      "outputs": [
        {
          "output_type": "stream",
          "text": [
            "Mean is 53719.57777777778\n"
          ],
          "name": "stdout"
        }
      ]
    },
    {
      "cell_type": "code",
      "metadata": {
        "colab": {
          "base_uri": "https://localhost:8080/",
          "height": 308
        },
        "id": "rNPY94AcyYWy",
        "outputId": "324b94dc-5edd-4445-fb89-2dfeeeda066d"
      },
      "source": [
        "sns.kdeplot(x='Income',data=df,legend=True)\n",
        "print(\"Majority is Gaussian Distribution\")"
      ],
      "execution_count": null,
      "outputs": [
        {
          "output_type": "stream",
          "text": [
            "Majority is Gaussian Distribution\n"
          ],
          "name": "stdout"
        },
        {
          "output_type": "display_data",
          "data": {
            "image/png": "[encoded data removed]",
            "text/plain": [
              "<Figure size 432x288 with 1 Axes>"
            ]
          },
          "metadata": {
            "tags": [],
            "needs_background": "light"
          }
        }
      ]
    },
    {
      "cell_type": "code",
      "metadata": {
        "id": "x--LX2gGyb99"
      },
      "source": [
        "# Not being perfectly normally distributed, its shows that characteristic\n",
        "# for majority of the graph\n",
        "# Most of the values still lie around the mean\n",
        "# It takes a shape of a gaussian disrtibution with outliers"
      ],
      "execution_count": null,
      "outputs": []
    },
    {
      "cell_type": "code",
      "metadata": {
        "id": "zxsAauERzrNs"
      },
      "source": [
        "# MILES"
      ],
      "execution_count": null,
      "outputs": []
    },
    {
      "cell_type": "code",
      "metadata": {
        "colab": {
          "base_uri": "https://localhost:8080/"
        },
        "id": "pL4gkYoNz-IV",
        "outputId": "2a683f81-e4e3-4163-eca6-3e808aed8997"
      },
      "source": [
        "df['Miles'].describe()"
      ],
      "execution_count": null,
      "outputs": [
        {
          "output_type": "execute_result",
          "data": {
            "text/plain": [
              "count    180.000000\n",
              "mean     103.194444\n",
              "std       51.863605\n",
              "min       21.000000\n",
              "25%       66.000000\n",
              "50%       94.000000\n",
              "75%      114.750000\n",
              "max      360.000000\n",
              "Name: Miles, dtype: float64"
            ]
          },
          "metadata": {
            "tags": []
          },
          "execution_count": 123
        }
      ]
    },
    {
      "cell_type": "code",
      "metadata": {
        "colab": {
          "base_uri": "https://localhost:8080/"
        },
        "id": "l6BISt-20BuD",
        "outputId": "962fb7f3-955d-4529-cb20-a9c2fc09465f"
      },
      "source": [
        "print(\"Mean Miles/week aimed is {}\".format(df['Miles'].mean()))"
      ],
      "execution_count": null,
      "outputs": [
        {
          "output_type": "stream",
          "text": [
            "Mean Miles/week aimed is 103.19444444444444\n"
          ],
          "name": "stdout"
        }
      ]
    },
    {
      "cell_type": "code",
      "metadata": {
        "colab": {
          "base_uri": "https://localhost:8080/",
          "height": 296
        },
        "id": "W1TMnHGN0IE3",
        "outputId": "0798c581-3c09-4b97-edc7-26719d1bdf75"
      },
      "source": [
        "sns.kdeplot(x='Miles',data=df,legend=True)\n",
        "print(\"Majority is Gaussian Distribution\")"
      ],
      "execution_count": null,
      "outputs": [
        {
          "output_type": "stream",
          "text": [
            "Majority is Gaussian Distribution\n"
          ],
          "name": "stdout"
        },
        {
          "output_type": "display_data",
          "data": {
            "image/png": "[encoded data removed]",
            "text/plain": [
              "<Figure size 432x288 with 1 Axes>"
            ]
          },
          "metadata": {
            "tags": [],
            "needs_background": "light"
          }
        }
      ]
    },
    {
      "cell_type": "code",
      "metadata": {
        "id": "P7cir_ou0La-"
      },
      "source": [
        "# Again majority of them are lying around the mean so yes we can say\n",
        "# majority is gaussian distribution"
      ],
      "execution_count": null,
      "outputs": []
    },
    {
      "cell_type": "code",
      "metadata": {
        "id": "f8PHad3I1SLK"
      },
      "source": [
        "# USAGE\n"
      ],
      "execution_count": null,
      "outputs": []
    },
    {
      "cell_type": "code",
      "metadata": {
        "colab": {
          "base_uri": "https://localhost:8080/"
        },
        "id": "s6Ijg3O51VIc",
        "outputId": "8c71369b-c7b4-4a14-8300-7c60431e1238"
      },
      "source": [
        "df['Usage'].describe()"
      ],
      "execution_count": null,
      "outputs": [
        {
          "output_type": "execute_result",
          "data": {
            "text/plain": [
              "count    180.000000\n",
              "mean       3.455556\n",
              "std        1.084797\n",
              "min        2.000000\n",
              "25%        3.000000\n",
              "50%        3.000000\n",
              "75%        4.000000\n",
              "max        7.000000\n",
              "Name: Usage, dtype: float64"
            ]
          },
          "metadata": {
            "tags": []
          },
          "execution_count": 129
        }
      ]
    },
    {
      "cell_type": "code",
      "metadata": {
        "colab": {
          "base_uri": "https://localhost:8080/"
        },
        "id": "ro3iMXpi1Wgc",
        "outputId": "2f0ac1a2-7696-4ea5-b61e-4f190375fd3c"
      },
      "source": [
        "print(\"Mean Usage is {}\".format(df['Usage'].mean()))"
      ],
      "execution_count": null,
      "outputs": [
        {
          "output_type": "stream",
          "text": [
            "Mean Usage is 3.4555555555555557\n"
          ],
          "name": "stdout"
        }
      ]
    },
    {
      "cell_type": "code",
      "metadata": {
        "colab": {
          "base_uri": "https://localhost:8080/",
          "height": 296
        },
        "id": "83bDkSnp1c_x",
        "outputId": "91e25d9e-ccdd-4f57-c08e-f5dbb0da2e8d"
      },
      "source": [
        "sns.kdeplot(x='Miles',data=df,legend=True)\n",
        "print(\"Majority is Gaussian Distribution\")"
      ],
      "execution_count": null,
      "outputs": [
        {
          "output_type": "stream",
          "text": [
            "Majority is Gaussian Distribution\n"
          ],
          "name": "stdout"
        },
        {
          "output_type": "display_data",
          "data": {
            "image/png": "[encoded data removed]",
            "text/plain": [
              "<Figure size 432x288 with 1 Axes>"
            ]
          },
          "metadata": {
            "tags": [],
            "needs_background": "light"
          }
        }
      ]
    },
    {
      "cell_type": "code",
      "metadata": {
        "id": "dMQHz1fA1ezn"
      },
      "source": [
        "# Again majority of them are lying around the mean so yes we can say\n",
        "# majority is gaussian distribution"
      ],
      "execution_count": null,
      "outputs": []
    },
    {
      "cell_type": "markdown",
      "metadata": {
        "id": "EQR3c6pW1yPf"
      },
      "source": [
        "Calculating Outliers Using IQR\n",
        "IQR(Inter Quartile Range) of Column 'Age'"
      ]
    },
    {
      "cell_type": "code",
      "metadata": {
        "id": "rT0QWw4l131R"
      },
      "source": [
        "age=np.sort(df['Age']) # Storing the sorted age in a variable"
      ],
      "execution_count": null,
      "outputs": []
    },
    {
      "cell_type": "code",
      "metadata": {
        "colab": {
          "base_uri": "https://localhost:8080/"
        },
        "id": "5wcffsxF15-y",
        "outputId": "2976eb2a-2190-482f-f588-e32ab676e97e"
      },
      "source": [
        "Q1 = np.percentile(age, 25, interpolation = 'midpoint')  # Calculatig the first quartile\n",
        "Q2 = np.percentile(age, 50, interpolation = 'midpoint')  # Calculating the second quartile\n",
        "Q3 = np.percentile(age, 75, interpolation = 'midpoint')  # Calculatig the third quartile\n",
        "  \n",
        "print('Q1(First Quartile) 25 percentile of the given data is, ', Q1,'\\n')\n",
        "print('Q2(Median) 50 percentile of the given data is, ', Q2,'\\n')\n",
        "print('Q3(Third Quartile) 75 percentile of the given data is, ', Q3,'\\n')\n",
        "  \n",
        "IQR = Q3 - Q1  # Calculating the interquartile range\n",
        "print('Interquartile range is', IQR)"
      ],
      "execution_count": null,
      "outputs": [
        {
          "output_type": "stream",
          "text": [
            "Q1(First Quartile) 25 percentile of the given data is,  24.0 \n",
            "\n",
            "Q2(Median) 50 percentile of the given data is,  26.0 \n",
            "\n",
            "Q3(Third Quartile) 75 percentile of the given data is,  33.0 \n",
            "\n",
            "Interquartile range is 9.0\n"
          ],
          "name": "stdout"
        }
      ]
    },
    {
      "cell_type": "code",
      "metadata": {
        "colab": {
          "base_uri": "https://localhost:8080/"
        },
        "id": "ijQKYV5O2Oqq",
        "outputId": "5f3b6e3e-bc61-4d2b-ddd6-b5b6b4521bcb"
      },
      "source": [
        "# Now we will find the lower and upper limit\n",
        "low_lim = Q1 - 1.5 * IQR\n",
        "up_lim = Q3 + 1.5 * IQR\n",
        "print('Lower Limit is', low_lim)\n",
        "print('Upper Limit is', up_lim)"
      ],
      "execution_count": null,
      "outputs": [
        {
          "output_type": "stream",
          "text": [
            "Lower Limit is 10.5\n",
            "Upper Limit is 46.5\n"
          ],
          "name": "stdout"
        }
      ]
    },
    {
      "cell_type": "code",
      "metadata": {
        "colab": {
          "base_uri": "https://localhost:8080/"
        },
        "id": "krhcMizu3Xso",
        "outputId": "8eaa5a34-7528-4304-a4aa-6f2aa047c0b3"
      },
      "source": [
        "# Now those lying outside the limits are the outliers\n",
        "outlier =[]\n",
        "for x in age:\n",
        "    if ((x> up_lim) or (x<low_lim)):\n",
        "         outlier.append(x)\n",
        "print('Outliers in the age are ', outlier)"
      ],
      "execution_count": null,
      "outputs": [
        {
          "output_type": "stream",
          "text": [
            "Outliers in the age are  [47, 47, 48, 48, 50]\n"
          ],
          "name": "stdout"
        }
      ]
    },
    {
      "cell_type": "markdown",
      "metadata": {
        "id": "KqaGqEKA4HtY"
      },
      "source": [
        "Displaying Income By Age"
      ]
    },
    {
      "cell_type": "code",
      "metadata": {
        "colab": {
          "base_uri": "https://localhost:8080/",
          "height": 458
        },
        "id": "QcgLbNrz3mCs",
        "outputId": "78c2c753-c09d-4e31-984a-de03b6f86327"
      },
      "source": [
        "# Here we can see the plots between Income and Age\n",
        "sns.jointplot(x='Income',y='Age',data=df,kind='reg')"
      ],
      "execution_count": null,
      "outputs": [
        {
          "output_type": "execute_result",
          "data": {
            "text/plain": [
              "<seaborn.axisgrid.JointGrid at 0x7f87494cb550>"
            ]
          },
          "metadata": {
            "tags": []
          },
          "execution_count": 160
        },
        {
          "output_type": "display_data",
          "data": {
            "image/png": "[encoded data removed]",
            "text/plain": [
              "<Figure size 432x432 with 3 Axes>"
            ]
          },
          "metadata": {
            "tags": [],
            "needs_background": "light"
          }
        }
      ]
    },
    {
      "cell_type": "code",
      "metadata": {
        "id": "Fg6C9N2Y4WFU"
      },
      "source": [
        "# The jointplot is able to plot two features at the same time"
      ],
      "execution_count": null,
      "outputs": []
    },
    {
      "cell_type": "markdown",
      "metadata": {
        "id": "qr8dNdQj_FOJ"
      },
      "source": [
        "Product Usage and Comparison"
      ]
    },
    {
      "cell_type": "code",
      "metadata": {
        "colab": {
          "base_uri": "https://localhost:8080/",
          "height": 296
        },
        "id": "F1iUJufm-5Il",
        "outputId": "7525b83d-40d5-4ce6-f31a-1861cc97e26d"
      },
      "source": [
        "sns.barplot(x='Product',y='Usage',hue='Gender',data=df)"
      ],
      "execution_count": null,
      "outputs": [
        {
          "output_type": "execute_result",
          "data": {
            "text/plain": [
              "<matplotlib.axes._subplots.AxesSubplot at 0x7f874909cad0>"
            ]
          },
          "metadata": {
            "tags": []
          },
          "execution_count": 175
        },
        {
          "output_type": "display_data",
          "data": {
            "image/png": "[encoded data removed]",
            "text/plain": [
              "<Figure size 432x288 with 1 Axes>"
            ]
          },
          "metadata": {
            "tags": [],
            "needs_background": "light"
          }
        }
      ]
    },
    {
      "cell_type": "code",
      "metadata": {
        "colab": {
          "base_uri": "https://localhost:8080/"
        },
        "id": "aF7o-i37_M3T",
        "outputId": "08e29305-b13c-4c30-b986-8814aa340483"
      },
      "source": [
        "# We can see from the barplot that TM798 is maxium used by Males\n",
        "print(\"Maximum used product by Male is TM798\")"
      ],
      "execution_count": null,
      "outputs": [
        {
          "output_type": "stream",
          "text": [
            "Maximum used product by Male is TM798\n"
          ],
          "name": "stdout"
        }
      ]
    },
    {
      "cell_type": "markdown",
      "metadata": {
        "id": "qRFwm8zYB3BP"
      },
      "source": [
        "Product Comparison on the Basis on Marital Status"
      ]
    },
    {
      "cell_type": "code",
      "metadata": {
        "colab": {
          "base_uri": "https://localhost:8080/"
        },
        "id": "Nmzy5mfPBXB-",
        "outputId": "ff620f66-138b-4310-df4f-c6fb8c2ae2b8"
      },
      "source": [
        "print(\"TM798 used by Singles\",np.sum(df[(df['MaritalStatus']=='Single') & (df['Product']=='TM798')]['Usage']))\n",
        "print(\"TM798 used by Partners\",np.sum(df[(df['MaritalStatus']=='Partnered') & (df['Product']=='TM798')]['Usage']))\n",
        "print(\"TM498 used by Singles\",np.sum(df[(df['MaritalStatus']=='Single') & (df['Product']=='TM498')]['Usage']))\n",
        "print(\"TM498 used by Partners\",np.sum(df[(df['MaritalStatus']=='Partnered') & (df['Product']=='TM498')]['Usage']))\n",
        "print(\"TM195 used by Singles\",np.sum(df[(df['MaritalStatus']=='Single') & (df['Product']=='TM195')]['Usage']))\n",
        "print(\"TM195 used by Partners\",np.sum(df[(df['MaritalStatus']=='Partnered') & (df['Product']=='TM195')]['Usage']))"
      ],
      "execution_count": null,
      "outputs": [
        {
          "output_type": "stream",
          "text": [
            "TM798 used by Singles 78\n",
            "TM798 used by Partners 113\n",
            "TM498 used by Singles 74\n",
            "TM498 used by Partners 110\n",
            "TM195 used by Singles 101\n",
            "TM195 used by Partners 146\n"
          ],
          "name": "stdout"
        }
      ]
    },
    {
      "cell_type": "code",
      "metadata": {
        "colab": {
          "base_uri": "https://localhost:8080/"
        },
        "id": "euuAfWKzB998",
        "outputId": "20972f6e-5bb3-4c86-a981-e7972f55dbfe"
      },
      "source": [
        "# Above we print the usage of each product based on the marital status\n",
        "print(\"The maximum used product by singles is TM195\")\n",
        "print(\"The maximum used product by Partnered Couple is TM95\")"
      ],
      "execution_count": null,
      "outputs": [
        {
          "output_type": "stream",
          "text": [
            "The maximum used product by singles is TM195\n",
            "The maximum used product by Partnered Couple is TM95\n"
          ],
          "name": "stdout"
        }
      ]
    },
    {
      "cell_type": "markdown",
      "metadata": {
        "id": "522wmin1FWYt"
      },
      "source": [
        "Relation between the Variables by means of Correlation\n",
        "\n"
      ]
    },
    {
      "cell_type": "code",
      "metadata": {
        "colab": {
          "base_uri": "https://localhost:8080/",
          "height": 286
        },
        "id": "4Mti_uACFReZ",
        "outputId": "641a501e-2a28-419f-c7b4-ee365f386c3b"
      },
      "source": [
        "# Best way to find a relation between numeric attributes is use a heatmap\n",
        "# Using the annot hyperparameter, we can map the correlation values also\n",
        "sns.heatmap(df.corr(),cmap='viridis',annot=True)"
      ],
      "execution_count": null,
      "outputs": [
        {
          "output_type": "execute_result",
          "data": {
            "text/plain": [
              "<matplotlib.axes._subplots.AxesSubplot at 0x7f8748da57d0>"
            ]
          },
          "metadata": {
            "tags": []
          },
          "execution_count": 202
        },
        {
          "output_type": "display_data",
          "data": {
            "image/png": "[encoded data removed]",
            "text/plain": [
              "<Figure size 432x288 with 2 Axes>"
            ]
          },
          "metadata": {
            "tags": [],
            "needs_background": "light"
          }
        }
      ]
    },
    {
      "cell_type": "code",
      "metadata": {
        "colab": {
          "base_uri": "https://localhost:8080/"
        },
        "id": "bOM0SJzNFrtd",
        "outputId": "39097fc6-6000-4a67-98a3-c973e0d694d6"
      },
      "source": [
        "# From the heatmap, age and income is highly correlated\n",
        "# It is obvious since age plays a factor in income earned\n",
        "print(\"We can see that Age is highly Correlated with Income by \",df['Age'].corr(df['Income']))"
      ],
      "execution_count": null,
      "outputs": [
        {
          "output_type": "stream",
          "text": [
            "We can see that Age is highly Correlated with Income by  0.513413685120833\n"
          ],
          "name": "stdout"
        }
      ]
    },
    {
      "cell_type": "code",
      "metadata": {
        "colab": {
          "base_uri": "https://localhost:8080/"
        },
        "id": "3366Q2qeF29v",
        "outputId": "99f29466-3be9-43c0-984e-39e71fa1644a"
      },
      "source": [
        "# From the heat map, we can see that Age and Education are correlated\n",
        "# It is obvious that education and age are interrelated but the correlation is a low correlation \n",
        "print(\"We can see that Age is somewhat low correlated to Education by \",df['Age'].corr(df['Education']))"
      ],
      "execution_count": null,
      "outputs": [
        {
          "output_type": "stream",
          "text": [
            "We can see that Age is somewhat low correlated to Education by  0.2804956669423836\n"
          ],
          "name": "stdout"
        }
      ]
    },
    {
      "cell_type": "code",
      "metadata": {
        "colab": {
          "base_uri": "https://localhost:8080/"
        },
        "id": "urZLgk_KGMzG",
        "outputId": "fe4df8f4-6af7-40e6-f788-98ae2d9dd3c3"
      },
      "source": [
        "# From the heatmap, we can see that education and income are highly correlated\n",
        "# It is obvious since education is a major factor for your income\n",
        "print(\"We can see that Education is highly Correlated with Income by \",df['Education'].corr(df['Income']))"
      ],
      "execution_count": null,
      "outputs": [
        {
          "output_type": "stream",
          "text": [
            "We can see that Education is highly Correlated with Income by  0.6258273463351709\n"
          ],
          "name": "stdout"
        }
      ]
    },
    {
      "cell_type": "code",
      "metadata": {
        "colab": {
          "base_uri": "https://localhost:8080/"
        },
        "id": "C9_i5xZTGiNi",
        "outputId": "545ec2ae-0bce-48d2-dd84-abfcf0b623f3"
      },
      "source": [
        "# We can se that Education plays a role in the usage and fitness\n",
        "# This can be attributed to the physical education one goes in keeping oneself fit\n",
        "print(\"Education is also lowly correlated to Usage and Fitness by {} and {} respectively\".format(df['Education'].corr(df['Usage']),df['Education'].corr(df['Fitness'])))"
      ],
      "execution_count": null,
      "outputs": [
        {
          "output_type": "stream",
          "text": [
            "Education is also lowly correlated to Usage and Fitness by 0.3951552190809244 and 0.410580790130423 respectively\n"
          ],
          "name": "stdout"
        }
      ]
    },
    {
      "cell_type": "code",
      "metadata": {
        "colab": {
          "base_uri": "https://localhost:8080/"
        },
        "id": "l_OSbyOFG6tJ",
        "outputId": "90130c74-a67a-460a-8a07-cc19a34caed6"
      },
      "source": [
        "# It is pretty obvious that those who use the product more tend to be fit more\n",
        "# Hence the usage and fitness are highly correlated\n",
        "print(\"We see that Usage and Fitness are highly correlated by \",df['Usage'].corr(df['Fitness']))"
      ],
      "execution_count": null,
      "outputs": [
        {
          "output_type": "stream",
          "text": [
            "We see that Usage and Fitness are highly correlated by  0.668605568025628\n"
          ],
          "name": "stdout"
        }
      ]
    },
    {
      "cell_type": "code",
      "metadata": {
        "colab": {
          "base_uri": "https://localhost:8080/"
        },
        "id": "71k42HWOHRbN",
        "outputId": "4981af68-997a-425d-e283-8ad162d631e5"
      },
      "source": [
        "# Again, more the usage, more will be the miles travelled\n",
        "print(\"Usage and Miles are also highly correlated by \",df['Usage'].corr(df['Miles']))"
      ],
      "execution_count": null,
      "outputs": [
        {
          "output_type": "stream",
          "text": [
            "Usage and Miles are also highly correlated by  0.7591304767293784\n"
          ],
          "name": "stdout"
        }
      ]
    },
    {
      "cell_type": "code",
      "metadata": {
        "colab": {
          "base_uri": "https://localhost:8080/"
        },
        "id": "jPu-EQjJHhPr",
        "outputId": "1b456ef8-b664-44c6-c02f-65dfbd7c7b8b"
      },
      "source": [
        "# Rich people tend to keep themselves fit by buying multpile fitness products\n",
        "# It is kind of true since rich are able to afford home gym equipments to keep fit\n",
        "print(\"Fitness is moderately correlated with Income by \",df['Fitness'].corr(df['Income']))"
      ],
      "execution_count": null,
      "outputs": [
        {
          "output_type": "stream",
          "text": [
            "Fitness is moderately correlated with Income by  0.5350053167686754\n"
          ],
          "name": "stdout"
        }
      ]
    },
    {
      "cell_type": "code",
      "metadata": {
        "colab": {
          "base_uri": "https://localhost:8080/"
        },
        "id": "MyWlasnkH6Bw",
        "outputId": "bfb037c4-6ba5-4fd3-a259-e4ea336a844f"
      },
      "source": [
        "# It is obvious that those who have tend to travel more miles tend to be more fit \n",
        "print(\"Fitness is highly correlated with miles by \",df['Fitness'].corr(df['Miles']))"
      ],
      "execution_count": null,
      "outputs": [
        {
          "output_type": "stream",
          "text": [
            "Fitness is highly correlated with miles by  0.7857017433982371\n"
          ],
          "name": "stdout"
        }
      ]
    },
    {
      "cell_type": "markdown",
      "metadata": {
        "id": "Q32PcUomIiDy"
      },
      "source": [
        "Machine Learning Model to predict Miles"
      ]
    },
    {
      "cell_type": "code",
      "metadata": {
        "id": "RA7rTjs0IMp7"
      },
      "source": [
        "# Creating the input and output data\n",
        "X=df[['Fitness','Usage']]\n",
        "y=df['Miles']"
      ],
      "execution_count": null,
      "outputs": []
    },
    {
      "cell_type": "code",
      "metadata": {
        "id": "EX8KykunIzh1"
      },
      "source": [
        "from sklearn.model_selection import train_test_split\n",
        "# Splitting the data into test and validation data\n",
        "X_train, X_test, y_train, y_test = train_test_split(X, y, test_size=0.33, random_state=42)"
      ],
      "execution_count": null,
      "outputs": []
    },
    {
      "cell_type": "code",
      "metadata": {
        "id": "oNtbu7RlJv8d"
      },
      "source": [
        "# Due to the nature of the data being a continuous structured data\n",
        "# We use supervised learning in the form of a linear regression"
      ],
      "execution_count": null,
      "outputs": []
    },
    {
      "cell_type": "code",
      "metadata": {
        "id": "m2erh0lGJPH8"
      },
      "source": [
        "from sklearn.linear_model import LinearRegression\n",
        "model=LinearRegression() # making a linear model object"
      ],
      "execution_count": null,
      "outputs": []
    },
    {
      "cell_type": "code",
      "metadata": {
        "colab": {
          "base_uri": "https://localhost:8080/"
        },
        "id": "FDIvFkwWJkHA",
        "outputId": "1c868f71-e779-40b8-bcf0-597a2a75cbfa"
      },
      "source": [
        "# Fitting the model with train data\n",
        "model.fit(X_train,y_train) "
      ],
      "execution_count": null,
      "outputs": [
        {
          "output_type": "execute_result",
          "data": {
            "text/plain": [
              "LinearRegression(copy_X=True, fit_intercept=True, n_jobs=None, normalize=False)"
            ]
          },
          "metadata": {
            "tags": []
          },
          "execution_count": 252
        }
      ]
    },
    {
      "cell_type": "code",
      "metadata": {
        "id": "1c-u77wyJ_mq"
      },
      "source": [
        "# Storing the predictions of the validation data in pred\n",
        "pred=model.predict(X_test)"
      ],
      "execution_count": null,
      "outputs": []
    },
    {
      "cell_type": "markdown",
      "metadata": {
        "id": "06HQ3HDwKLIC"
      },
      "source": [
        "Model Evaluation"
      ]
    },
    {
      "cell_type": "code",
      "metadata": {
        "id": "9KPuMCKLKGtF"
      },
      "source": [
        "from sklearn import metrics"
      ],
      "execution_count": null,
      "outputs": []
    },
    {
      "cell_type": "code",
      "metadata": {
        "colab": {
          "base_uri": "https://localhost:8080/"
        },
        "id": "iyXF77btKN-a",
        "outputId": "1f69a25f-143f-45c9-ecc0-76d8b8513cce"
      },
      "source": [
        "print(\"Mean Absolute Error is\",metrics.mean_absolute_error(y_test,pred))\n",
        "print(\"Mean Squared Error is \",metrics.mean_squared_error(y_test,pred))\n",
        "print(\"Root mean Squared error is\",np.sqrt(metrics.mean_squared_error(y_test,pred)))\n",
        "print(\"R2 score\",metrics.r2_score(y_test,pred))"
      ],
      "execution_count": null,
      "outputs": [
        {
          "output_type": "stream",
          "text": [
            "Mean Absolute Error is 22.801462016235675\n",
            "Mean Squared Error is  1334.022352049892\n",
            "Root mean Squared error is 36.52427072577757\n",
            "R2 score 0.553034564005235\n"
          ],
          "name": "stdout"
        }
      ]
    },
    {
      "cell_type": "code",
      "metadata": {
        "id": "j0CeJFqeL0Iy"
      },
      "source": [
        ""
      ],
      "execution_count": null,
      "outputs": []
    }
  ]
}